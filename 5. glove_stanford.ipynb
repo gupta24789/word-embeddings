{
 "cells": [
  {
   "cell_type": "markdown",
   "metadata": {},
   "source": [
    "## Training Embedding using Glove"
   ]
  },
  {
   "cell_type": "markdown",
   "metadata": {},
   "source": [
    "##### Follow below instructions\n",
    "\n",
    "1. git clone http://github.com/stanfordnlp/glove\n",
    "2. Update the demo.sh file \n",
    "\n",
    "    2.1 After make statement in demo.sh comment out below \n",
    "                #if [ ! -e text8 ]; then\n",
    "                #  if hash wget 2>/dev/null; then\n",
    "                #    wget http://mattmahoney.net/dc/text8.zip\n",
    "                #  else\n",
    "                #    curl -O http://mattmahoney.net/dc/text8.zip\n",
    "                #  fi\n",
    "                #  unzip text8.zip\n",
    "                #  rm text8.zip\n",
    "                #fi\n",
    "                \n",
    "    2.2 Replace the \"text8\" filename with your filename\n",
    "         - CORPUS=\"text8\"\n",
    "         - if [\"$CORPUS\" = \"text8\"] \n",
    "         \n",
    "3. cd glove && make\n",
    "4. Copy your data into glove directory\n",
    "5. Run the demo.sh\n",
    "6. Words embedding will be available in vectors.txt file"
   ]
  }
 ],
 "metadata": {
  "kernelspec": {
   "display_name": "Python 3",
   "language": "python",
   "name": "python3"
  },
  "language_info": {
   "codemirror_mode": {
    "name": "ipython",
    "version": 3
   },
   "file_extension": ".py",
   "mimetype": "text/x-python",
   "name": "python",
   "nbconvert_exporter": "python",
   "pygments_lexer": "ipython3",
   "version": "3.7.6"
  }
 },
 "nbformat": 4,
 "nbformat_minor": 4
}

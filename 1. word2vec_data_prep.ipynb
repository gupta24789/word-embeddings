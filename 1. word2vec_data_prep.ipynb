{
 "cells": [
  {
   "cell_type": "code",
   "execution_count": 1,
   "metadata": {},
   "outputs": [],
   "source": [
    "import re\n",
    "import string\n",
    "from argparse import Namespace\n",
    "from bs4 import BeautifulSoup\n",
    "from nltk.tokenize import TreebankWordTokenizer\n",
    "from nltk.corpus import stopwords"
   ]
  },
  {
   "cell_type": "code",
   "execution_count": 2,
   "metadata": {},
   "outputs": [],
   "source": [
    "## Define Config\n",
    "args = Namespace(\n",
    "    raw_file_path = './data/raw_data/unlabeled.tsv',\n",
    "    processed_file_path = './data/clean_data/word2vec_training_corpus.txt'\n",
    ")"
   ]
  },
  {
   "cell_type": "code",
   "execution_count": 3,
   "metadata": {},
   "outputs": [
    {
     "name": "stdout",
     "output_type": "stream",
     "text": [
      "Number of Reviews : 50000\n",
      "\n",
      "First Original Review :\n",
      "\n",
      "\"Watching Time Chasers, it obvious that it was made by a bunch of friends. Maybe they were sitting around one day in film school and said, \\\"Hey, let's pool our money together and make a really bad movie!\\\" Or something like that. What ever they said, they still ended up making a really bad movie--dull story, bad script, lame acting, poor cinematography, bottom of the barrel stock music, etc. All corners were cut, except the one that would have prevented this film's release. Life's like that.\"\n",
      "\n"
     ]
    }
   ],
   "source": [
    "reviews = []\n",
    "\n",
    "with open(args.raw_file_path) as f:\n",
    "    count = 0\n",
    "    for i,line in enumerate(f.readlines()):\n",
    "        if i==0:\n",
    "            continue\n",
    "        else:\n",
    "            id_review = line.split('\\t')\n",
    "            \n",
    "            if len(id_review)==2:\n",
    "                _id, review = id_review\n",
    "                reviews.append(review)\n",
    "                \n",
    "print(f\"Number of Reviews : {len(reviews)}\")\n",
    "print(f\"\\nFirst Original Review :\\n\\n{reviews[0]}\")"
   ]
  },
  {
   "cell_type": "code",
   "execution_count": 4,
   "metadata": {},
   "outputs": [],
   "source": [
    "tokenizer = TreebankWordTokenizer()\n",
    "stop_words = stopwords.words('english')\n",
    "remove_words = string.punctuation + '0123456789'"
   ]
  },
  {
   "cell_type": "code",
   "execution_count": 5,
   "metadata": {},
   "outputs": [],
   "source": [
    "## Clean the data \n",
    "def process_review(review, verbose = False):\n",
    "    \n",
    "    if verbose:\n",
    "        print(f\"Original Review :\\n\\n{review}\")\n",
    "        \n",
    "    ## Convert to string\n",
    "    review = eval(review)\n",
    "    \n",
    "    ## Remove html tags\n",
    "    clean_review = BeautifulSoup(review).get_text()\n",
    "    \n",
    "    ## Remove everything except words\n",
    "    clean_review = re.sub('^\\w+','',review)\n",
    "    \n",
    "    ## Convert to lower case and remove stopwords\n",
    "    clean_review = clean_review.lower().strip()\n",
    "    \n",
    "    ## Convert to tokens \n",
    "    tokens = tokenizer.tokenize(clean_review)\n",
    "    \n",
    "    ## Filter tokens\n",
    "    tokens = [w for w in tokens if w not in stop_words and w not in remove_words and w.isalpha()]\n",
    "    \n",
    "    if verbose:\n",
    "        print(f\"Processed Review :\\n\\n{' '.join(tokens)}\")\n",
    "        \n",
    "    return tokens"
   ]
  },
  {
   "cell_type": "code",
   "execution_count": 6,
   "metadata": {},
   "outputs": [
    {
     "name": "stdout",
     "output_type": "stream",
     "text": [
      "Original Review :\n",
      "\n",
      "\"Watching Time Chasers, it obvious that it was made by a bunch of friends. Maybe they were sitting around one day in film school and said, \\\"Hey, let's pool our money together and make a really bad movie!\\\" Or something like that. What ever they said, they still ended up making a really bad movie--dull story, bad script, lame acting, poor cinematography, bottom of the barrel stock music, etc. All corners were cut, except the one that would have prevented this film's release. Life's like that.\"\n",
      "\n",
      "Processed Review :\n",
      "\n",
      "time chasers obvious made bunch maybe sitting around one day film school said hey let pool money together make really bad movie something like ever said still ended making really bad movie dull story bad script lame acting poor cinematography bottom barrel stock music corners cut except one would prevented film life like\n"
     ]
    }
   ],
   "source": [
    "tokens = process_review(reviews[0], True)"
   ]
  },
  {
   "cell_type": "code",
   "execution_count": 7,
   "metadata": {},
   "outputs": [
    {
     "name": "stdout",
     "output_type": "stream",
     "text": [
      "['time', 'chasers', 'obvious', 'made', 'bunch', 'maybe', 'sitting', 'around', 'one', 'day', 'film', 'school', 'said', 'hey', 'let', 'pool', 'money', 'together', 'make', 'really', 'bad', 'movie', 'something', 'like', 'ever', 'said', 'still', 'ended', 'making', 'really', 'bad', 'movie', 'dull', 'story', 'bad', 'script', 'lame', 'acting', 'poor', 'cinematography', 'bottom', 'barrel', 'stock', 'music', 'corners', 'cut', 'except', 'one', 'would', 'prevented', 'film', 'life', 'like']\n"
     ]
    }
   ],
   "source": [
    "## Processed Rview\n",
    "clean_reviews = list(map(process_review,reviews))\n",
    "print(clean_reviews[0])"
   ]
  },
  {
   "cell_type": "code",
   "execution_count": 8,
   "metadata": {},
   "outputs": [],
   "source": [
    "## Save the data\n",
    "## Instaed of wrapping str we can use dump function\n",
    "with open(args.processed_file_path,'w') as f:\n",
    "    for line in clean_reviews:\n",
    "        f.write(str(line))\n",
    "        f.write('\\n')"
   ]
  }
 ],
 "metadata": {
  "kernelspec": {
   "display_name": "Python 3",
   "language": "python",
   "name": "python3"
  },
  "language_info": {
   "codemirror_mode": {
    "name": "ipython",
    "version": 3
   },
   "file_extension": ".py",
   "mimetype": "text/x-python",
   "name": "python",
   "nbconvert_exporter": "python",
   "pygments_lexer": "ipython3",
   "version": "3.7.6"
  }
 },
 "nbformat": 4,
 "nbformat_minor": 4
}

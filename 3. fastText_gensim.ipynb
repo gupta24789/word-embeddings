{
 "cells": [
  {
   "cell_type": "code",
   "execution_count": 1,
   "metadata": {},
   "outputs": [],
   "source": [
    "import os\n",
    "from argparse import Namespace\n",
    "from gensim.models.fasttext import FastText\n",
    "from gensim.models.callbacks import CallbackAny2Vec\n",
    "import matplotlib.pyplot as plt"
   ]
  },
  {
   "cell_type": "code",
   "execution_count": 2,
   "metadata": {},
   "outputs": [],
   "source": [
    "args = Namespace(\n",
    "    \n",
    "    ## Input params\n",
    "    traning_corpus_filepath = './data/clean_data/word2vec_training_corpus.txt',\n",
    "    \n",
    "    ## Model params\n",
    "    epochs = 5,\n",
    "    embed_dim = 100,\n",
    "    min_count = 40,\n",
    "    window = 40,\n",
    "    \n",
    "    ## Output params\n",
    "    model_dir = './models',    \n",
    "    model_path = './models/fastText_model.model'\n",
    ")\n",
    "\n",
    "os.makedirs(args.model_dir, exist_ok = True)"
   ]
  },
  {
   "cell_type": "code",
   "execution_count": 3,
   "metadata": {},
   "outputs": [],
   "source": [
    "class ReadSentence:\n",
    "    \n",
    "    def __init__(self, filepath):\n",
    "        self.filepath = filepath\n",
    "                \n",
    "    def __iter__(self):\n",
    "        with open(args.traning_corpus_filepath) as f:\n",
    "            for line in f.readlines():\n",
    "                yield eval(line)"
   ]
  },
  {
   "cell_type": "code",
   "execution_count": 4,
   "metadata": {},
   "outputs": [],
   "source": [
    "# class EpochSaver(CallbackAny2Vec):\n",
    "    \n",
    "#     def __init__(self):\n",
    "#         self.batch_loss = []\n",
    "#         self.epoch_loss = []\n",
    "#         self.prev_loss = 0\n",
    "        \n",
    "#     def on_batch_end(self,model):\n",
    "#         loss = model.running_training_loss\n",
    "#         self.batch_loss.append(loss)\n",
    "        \n",
    "#     def on_epoch_end(self, model):\n",
    "#         loss = model.running_training_loss\n",
    "#         self.epoch_loss.append(loss)"
   ]
  },
  {
   "cell_type": "code",
   "execution_count": 5,
   "metadata": {},
   "outputs": [],
   "source": [
    "## sentence iterator\n",
    "sentence_reader = ReadSentence(args.traning_corpus_filepath)\n",
    "# epochSaver = EpochSaver()"
   ]
  },
  {
   "cell_type": "code",
   "execution_count": 6,
   "metadata": {},
   "outputs": [],
   "source": [
    "model = FastText(size= args.embed_dim, window= args.window, min_count= args.min_count)\n",
    "model.build_vocab(sentences=sentence_reader)\n",
    "total_examples = model.corpus_count"
   ]
  },
  {
   "cell_type": "code",
   "execution_count": 7,
   "metadata": {},
   "outputs": [],
   "source": [
    "model.train(sentences=sentence_reader, \n",
    "            total_examples=total_examples, \n",
    "            epochs= args.epochs)"
   ]
  },
  {
   "cell_type": "code",
   "execution_count": 8,
   "metadata": {},
   "outputs": [],
   "source": [
    "## save model\n",
    "model.save(args.model_path)"
   ]
  },
  {
   "cell_type": "markdown",
   "metadata": {},
   "source": [
    "## Evaluation"
   ]
  },
  {
   "cell_type": "code",
   "execution_count": 9,
   "metadata": {},
   "outputs": [],
   "source": [
    "## Load pretrained model \n",
    "model = FastText.load(args.model_path)"
   ]
  },
  {
   "cell_type": "code",
   "execution_count": 10,
   "metadata": {},
   "outputs": [
    {
     "data": {
      "text/plain": [
       "[('terrible', 0.8721861839294434),\n",
       " ('horrible', 0.8077470064163208),\n",
       " ('awfulness', 0.7925478219985962),\n",
       " ('terribly', 0.7722146511077881),\n",
       " ('awfully', 0.7679882049560547),\n",
       " ('horribly', 0.757067859172821),\n",
       " ('dreadful', 0.7355570793151855),\n",
       " ('atrocious', 0.6969504356384277),\n",
       " ('lousy', 0.6741313934326172),\n",
       " ('amateurish', 0.6654798984527588)]"
      ]
     },
     "execution_count": 10,
     "metadata": {},
     "output_type": "execute_result"
    }
   ],
   "source": [
    "model.wv.most_similar('awful')"
   ]
  },
  {
   "cell_type": "code",
   "execution_count": 11,
   "metadata": {},
   "outputs": [
    {
     "data": {
      "text/plain": [
       "[('badge', 0.8372039794921875),\n",
       " ('terrible', 0.66477370262146),\n",
       " ('sinbad', 0.6606861352920532),\n",
       " ('horrible', 0.6519021391868591),\n",
       " ('baddie', 0.6486789584159851),\n",
       " ('baddies', 0.6227812767028809),\n",
       " ('awful', 0.6187651753425598),\n",
       " ('badly', 0.617999792098999),\n",
       " ('crappy', 0.5904452800750732),\n",
       " ('bag', 0.5749733448028564)]"
      ]
     },
     "execution_count": 11,
     "metadata": {},
     "output_type": "execute_result"
    }
   ],
   "source": [
    "model.wv.most_similar('bad')"
   ]
  },
  {
   "cell_type": "code",
   "execution_count": 12,
   "metadata": {},
   "outputs": [
    {
     "data": {
      "text/plain": [
       "[('goodbye', 0.8806805610656738),\n",
       " ('goods', 0.7243682146072388),\n",
       " ('gooding', 0.6606674194335938),\n",
       " ('goodman', 0.6574000716209412),\n",
       " ('goofs', 0.6515835523605347),\n",
       " ('google', 0.6307097673416138),\n",
       " ('decent', 0.6285086870193481),\n",
       " ('goof', 0.6167135834693909),\n",
       " ('goodfellas', 0.6052292585372925),\n",
       " ('ok', 0.5743190050125122)]"
      ]
     },
     "execution_count": 12,
     "metadata": {},
     "output_type": "execute_result"
    }
   ],
   "source": [
    "model.wv.most_similar('good')"
   ]
  }
 ],
 "metadata": {
  "kernelspec": {
   "display_name": "Python 3",
   "language": "python",
   "name": "python3"
  },
  "language_info": {
   "codemirror_mode": {
    "name": "ipython",
    "version": 3
   },
   "file_extension": ".py",
   "mimetype": "text/x-python",
   "name": "python",
   "nbconvert_exporter": "python",
   "pygments_lexer": "ipython3",
   "version": "3.7.6"
  }
 },
 "nbformat": 4,
 "nbformat_minor": 4
}

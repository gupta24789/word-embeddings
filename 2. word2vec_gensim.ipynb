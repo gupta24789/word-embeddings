{
 "cells": [
  {
   "cell_type": "code",
   "execution_count": 1,
   "metadata": {},
   "outputs": [],
   "source": [
    "import os\n",
    "from argparse import Namespace\n",
    "from gensim.models import Word2Vec\n",
    "from gensim.models.callbacks import CallbackAny2Vec\n",
    "import matplotlib.pyplot as plt"
   ]
  },
  {
   "cell_type": "code",
   "execution_count": 2,
   "metadata": {},
   "outputs": [],
   "source": [
    "args = Namespace(\n",
    "    traning_corpus_filepath = './data/clean_data/word2vec_training_corpus.txt',\n",
    "    \n",
    "    model_dir = './models',    \n",
    "    model_path = './models/word2vec_model.p',\n",
    "    model_path_c = './models/word2vec_model.bin'\n",
    "    \n",
    ")\n",
    "\n",
    "os.makedirs(args.model_dir, exist_ok = True)"
   ]
  },
  {
   "cell_type": "code",
   "execution_count": 3,
   "metadata": {},
   "outputs": [],
   "source": [
    "class ReadSentence:\n",
    "    \n",
    "    def __init__(self, filepath):\n",
    "        self.filepath = filepath\n",
    "                \n",
    "    def __iter__(self):\n",
    "        with open(args.traning_corpus_filepath) as f:\n",
    "            for line in f.readlines():\n",
    "                yield eval(line)"
   ]
  },
  {
   "cell_type": "code",
   "execution_count": 4,
   "metadata": {},
   "outputs": [],
   "source": [
    "class EpochSaver(CallbackAny2Vec):\n",
    "    \n",
    "    def __init__(self):\n",
    "        self.batch_loss = []\n",
    "        self.prev_loss = 0\n",
    "        \n",
    "    def on_batch_end(self,model):\n",
    "        curr_loss = model.get_latest_training_loss()\n",
    "        loss = curr_loss - self.prev_loss\n",
    "        self.prev_loss = curr_loss\n",
    "        self.batch_loss.append(loss)\n",
    "        \n",
    "    def on_epoch_end(self, model):\n",
    "        pass"
   ]
  },
  {
   "cell_type": "code",
   "execution_count": 5,
   "metadata": {},
   "outputs": [],
   "source": [
    "## sentence iterator\n",
    "sentence_reader = ReadSentence(args.traning_corpus_filepath)\n",
    "epochSaver = EpochSaver()"
   ]
  },
  {
   "cell_type": "code",
   "execution_count": 6,
   "metadata": {},
   "outputs": [],
   "source": [
    "params = {\n",
    "            \"sentences\" : sentence_reader,\n",
    "            \"size\" : 100,           # dim of embedding\n",
    "            \"window\" : 40,\n",
    "            \"min_count\" : 40,\n",
    "            \"workers\" : 3,\n",
    "            \"sg\" : 1,               # sg=1 : skipgram , sg=0 : cbow\n",
    "            \"hs\" : 1 ,\n",
    "            \"negative\" : 5,\n",
    "            \"iter\" : 5,\n",
    "            \"batch_words\" : 10000,\n",
    "            \"compute_loss\" : True,\n",
    "            \"callbacks\" : [epochSaver]\n",
    "}"
   ]
  },
  {
   "cell_type": "code",
   "execution_count": 7,
   "metadata": {},
   "outputs": [],
   "source": [
    "model = Word2Vec(**params)"
   ]
  },
  {
   "cell_type": "code",
   "execution_count": 8,
   "metadata": {},
   "outputs": [
    {
     "data": {
      "text/plain": [
       "[<matplotlib.lines.Line2D at 0x7f44843a7c10>]"
      ]
     },
     "execution_count": 8,
     "metadata": {},
     "output_type": "execute_result"
    },
    {
     "data": {
      "image/png": "[encoded data removed]",
      "text/plain": [
       "<Figure size 432x288 with 1 Axes>"
      ]
     },
     "metadata": {
      "needs_background": "light"
     },
     "output_type": "display_data"
    }
   ],
   "source": [
    "plt.plot(epochSaver.batch_loss)"
   ]
  },
  {
   "cell_type": "code",
   "execution_count": 9,
   "metadata": {},
   "outputs": [],
   "source": [
    "## Save model (for further training)\n",
    "model.save(args.model_path)"
   ]
  },
  {
   "cell_type": "code",
   "execution_count": 10,
   "metadata": {},
   "outputs": [],
   "source": [
    "## Save model in original format\n",
    "model.wv.save_word2vec_format(args.model_path_c, binary = True)"
   ]
  },
  {
   "cell_type": "markdown",
   "metadata": {},
   "source": [
    "## Evaluate"
   ]
  },
  {
   "cell_type": "code",
   "execution_count": 13,
   "metadata": {},
   "outputs": [],
   "source": [
    "from gensim.models import KeyedVectors\n",
    "\n",
    "model = KeyedVectors.load_word2vec_format(args.model_path_c, binary = True)"
   ]
  },
  {
   "cell_type": "code",
   "execution_count": 14,
   "metadata": {},
   "outputs": [
    {
     "data": {
      "text/plain": [
       "[('terrible', 0.8134520053863525),\n",
       " ('worse', 0.7999075651168823),\n",
       " ('worst', 0.7900944948196411),\n",
       " ('dreadful', 0.7886014580726624),\n",
       " ('lousy', 0.7806686162948608),\n",
       " ('mess', 0.7771373391151428),\n",
       " ('atrocious', 0.7725487351417542),\n",
       " ('embarrassing', 0.7631992101669312),\n",
       " ('plain', 0.7577114105224609),\n",
       " ('bad', 0.7571655511856079)]"
      ]
     },
     "execution_count": 14,
     "metadata": {},
     "output_type": "execute_result"
    }
   ],
   "source": [
    "model.most_similar('awful')"
   ]
  },
  {
   "cell_type": "code",
   "execution_count": 15,
   "metadata": {},
   "outputs": [
    {
     "data": {
      "text/plain": [
       "[('worse', 0.8648759722709656),\n",
       " ('terrible', 0.8513275384902954),\n",
       " ('crappy', 0.8441234827041626),\n",
       " ('plain', 0.8324521780014038),\n",
       " ('acting', 0.8320739269256592),\n",
       " ('excuse', 0.8279955387115479),\n",
       " ('horrible', 0.8279228210449219),\n",
       " ('actually', 0.8209360837936401),\n",
       " ('worst', 0.8178929090499878),\n",
       " ('seriously', 0.8141182661056519)]"
      ]
     },
     "execution_count": 15,
     "metadata": {},
     "output_type": "execute_result"
    }
   ],
   "source": [
    "model.most_similar('bad')"
   ]
  },
  {
   "cell_type": "code",
   "execution_count": 16,
   "metadata": {},
   "outputs": [
    {
     "data": {
      "text/plain": [
       "[('really', 0.9003206491470337),\n",
       " ('well', 0.8936648368835449),\n",
       " ('pretty', 0.8865994215011597),\n",
       " ('nice', 0.8715674877166748),\n",
       " ('done', 0.8680661916732788),\n",
       " ('lot', 0.8658228516578674),\n",
       " ('much', 0.8608795404434204),\n",
       " ('though', 0.8577100038528442),\n",
       " ('like', 0.8530203104019165),\n",
       " ('movie', 0.8501754999160767)]"
      ]
     },
     "execution_count": 16,
     "metadata": {},
     "output_type": "execute_result"
    }
   ],
   "source": [
    "model.most_similar('good')"
   ]
  }
 ],
 "metadata": {
  "kernelspec": {
   "display_name": "Python 3",
   "language": "python",
   "name": "python3"
  },
  "language_info": {
   "codemirror_mode": {
    "name": "ipython",
    "version": 3
   },
   "file_extension": ".py",
   "mimetype": "text/x-python",
   "name": "python",
   "nbconvert_exporter": "python",
   "pygments_lexer": "ipython3",
   "version": "3.7.6"
  }
 },
 "nbformat": 4,
 "nbformat_minor": 4
}
